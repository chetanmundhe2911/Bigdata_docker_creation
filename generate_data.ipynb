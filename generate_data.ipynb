import pandas as pd
import numpy as np

# Create random data
data = {
    "id": np.arange(1, 101),
    "name": [f"Name_{i}" for i in range(1, 101)],
    "value": np.random.rand(100) * 100,
}

# Save data to CSV
df = pd.DataFrame(data)
df.to_csv("data/random_data.csv", index=False)
